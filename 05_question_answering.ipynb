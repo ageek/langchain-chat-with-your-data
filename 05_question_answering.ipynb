{
 "cells": [
  {
   "cell_type": "code",
   "execution_count": 2,
   "id": "3c3386b5-4952-4059-887a-7f39375852ec",
   "metadata": {},
   "outputs": [],
   "source": [
    "from dotenv import load_dotenv"
   ]
  },
  {
   "cell_type": "code",
   "execution_count": 3,
   "id": "3214f1d1-37f2-4190-8dd7-38d14c6090bc",
   "metadata": {},
   "outputs": [],
   "source": [
    "import openai"
   ]
  },
  {
   "cell_type": "code",
   "execution_count": 4,
   "id": "0b551ca8-7734-4f57-918d-58776acfdfd8",
   "metadata": {},
   "outputs": [
    {
     "data": {
      "text/plain": [
       "True"
      ]
     },
     "execution_count": 4,
     "metadata": {},
     "output_type": "execute_result"
    }
   ],
   "source": [
    "load_dotenv('/home/tom/two/envapi/my-env')"
   ]
  },
  {
   "cell_type": "code",
   "execution_count": 5,
   "id": "74874fe9-eada-4cc8-9c1e-f615c89cad71",
   "metadata": {},
   "outputs": [],
   "source": [
    "from langchain.vectorstores import Chroma\n",
    "from langchain.embeddings import OpenAIEmbeddings\n"
   ]
  },
  {
   "cell_type": "code",
   "execution_count": 6,
   "id": "f7eaea51-b0b7-4f09-ad2f-67f3c6f27498",
   "metadata": {},
   "outputs": [],
   "source": [
    "persist_directory = '/home/tom/two/vstore/chroma/'"
   ]
  },
  {
   "cell_type": "code",
   "execution_count": 7,
   "id": "dcb1595f-cce4-4062-b90e-4dc1e6aef567",
   "metadata": {},
   "outputs": [],
   "source": [
    "embedding = OpenAIEmbeddings()"
   ]
  },
  {
   "cell_type": "code",
   "execution_count": 8,
   "id": "7295ed85-af2d-402c-9d00-37cd04c23ae7",
   "metadata": {},
   "outputs": [],
   "source": [
    "vectordb = Chroma(\n",
    "    persist_directory=persist_directory,\n",
    "    embedding_function=embedding\n",
    ")"
   ]
  },
  {
   "cell_type": "code",
   "execution_count": 9,
   "id": "f696887c-0587-4d81-8cc8-df1cbf06a5a9",
   "metadata": {},
   "outputs": [
    {
     "name": "stdout",
     "output_type": "stream",
     "text": [
      "209\n"
     ]
    }
   ],
   "source": [
    "print(vectordb._collection.count())"
   ]
  },
  {
   "cell_type": "code",
   "execution_count": 10,
   "id": "41c07ef8-af44-4777-9fd6-ae008ef73df6",
   "metadata": {},
   "outputs": [],
   "source": [
    "question = 'what are the major topics for this class?'"
   ]
  },
  {
   "cell_type": "code",
   "execution_count": 11,
   "id": "60c3dce5-2173-4f1e-98b2-14f6b727e2c1",
   "metadata": {},
   "outputs": [],
   "source": [
    "docs = vectordb.similarity_search(question, k=3)"
   ]
  },
  {
   "cell_type": "code",
   "execution_count": 12,
   "id": "72056236-abbd-4de8-8402-4e062f4b69ab",
   "metadata": {},
   "outputs": [
    {
     "data": {
      "text/plain": [
       "[Document(page_content=\"statistics for a while or maybe algebra, we'll go over those in the discussion sections as a \\nrefresher for those of you that want one.  \\nLater in this quarter, we'll also use the disc ussion sections to go over extensions for the \\nmaterial that I'm teaching in the main lectur es. So machine learning is a huge field, and \\nthere are a few extensions that we really want  to teach but didn't have time in the main \\nlectures for.\", metadata={'page': 8, 'source': 'https://see.stanford.edu/materials/aimlcs229/transcripts/machinelearning-lecture01.pdf'}),\n",
       " Document(page_content=\"statistics for a while or maybe algebra, we'll go over those in the discussion sections as a \\nrefresher for those of you that want one.  \\nLater in this quarter, we'll also use the disc ussion sections to go over extensions for the \\nmaterial that I'm teaching in the main lectur es. So machine learning is a huge field, and \\nthere are a few extensions that we really want  to teach but didn't have time in the main \\nlectures for.\", metadata={'page': 8, 'source': 'https://see.stanford.edu/materials/aimlcs229/transcripts/machinelearning-lecture01.pdf'}),\n",
       " Document(page_content=\"middle of class, but because there won't be video you can safely sit there and make faces \\nat me, and that won't show, okay?  \\nLet's see. I also handed out this — ther e were two handouts I hope most of you have, \\ncourse information handout. So let me just sa y a few words about parts of these. On the \\nthird page, there's a section that says Online Resources.  \\nOh, okay. Louder? Actually, could you turn up the volume? Testing. Is this better? \\nTesting, testing. Okay, cool. Thanks.\", metadata={'page': 4, 'source': 'https://see.stanford.edu/materials/aimlcs229/transcripts/machinelearning-lecture01.pdf'})]"
      ]
     },
     "execution_count": 12,
     "metadata": {},
     "output_type": "execute_result"
    }
   ],
   "source": [
    "docs"
   ]
  },
  {
   "cell_type": "code",
   "execution_count": 13,
   "id": "a62ac76b-0f3f-4e86-8cd3-0b3fc1bfbac5",
   "metadata": {},
   "outputs": [],
   "source": [
    "from langchain.chat_models import ChatOpenAI"
   ]
  },
  {
   "cell_type": "code",
   "execution_count": 14,
   "id": "27167c38-0f76-43f2-96d6-494aa3f8aee2",
   "metadata": {},
   "outputs": [],
   "source": [
    "llm = ChatOpenAI(\n",
    "    model_name ='gpt-3.5-turbo',\n",
    "    temperature=0\n",
    ")"
   ]
  },
  {
   "cell_type": "code",
   "execution_count": 15,
   "id": "8b07f2d9-9178-441d-af64-7cff68d0f687",
   "metadata": {},
   "outputs": [],
   "source": [
    "from langchain.chains import RetrievalQA"
   ]
  },
  {
   "cell_type": "code",
   "execution_count": 20,
   "id": "9722f379-d042-4ef2-bb70-4ccb965663d1",
   "metadata": {},
   "outputs": [],
   "source": [
    "qa_chain = RetrievalQA.from_chain_type(\n",
    "    llm, \n",
    "    retriever = vectordb.as_retriever(), \n",
    "    verbose = True\n",
    ")"
   ]
  },
  {
   "cell_type": "code",
   "execution_count": 18,
   "id": "a1894576-ff6f-41b6-9bfd-ae6e98865938",
   "metadata": {},
   "outputs": [
    {
     "name": "stdout",
     "output_type": "stream",
     "text": [
      "\n",
      "\n",
      "\u001b[1m> Entering new RetrievalQA chain...\u001b[0m\n",
      "\n",
      "\u001b[1m> Finished chain.\u001b[0m\n"
     ]
    }
   ],
   "source": [
    "result = qa_chain({'query':question})"
   ]
  },
  {
   "cell_type": "code",
   "execution_count": 19,
   "id": "bef9d9b6-c2ea-47b5-b85a-b0fdd8325b31",
   "metadata": {},
   "outputs": [
    {
     "data": {
      "text/plain": [
       "{'query': 'what are the major topics for this class?',\n",
       " 'result': 'The major topics for this class are machine learning and its various subfields.'}"
      ]
     },
     "execution_count": 19,
     "metadata": {},
     "output_type": "execute_result"
    }
   ],
   "source": [
    "result"
   ]
  },
  {
   "cell_type": "code",
   "execution_count": 21,
   "id": "98b9eefc-003f-440f-b39f-3960948bf161",
   "metadata": {},
   "outputs": [
    {
     "data": {
      "text/plain": [
       "'The major topics for this class are machine learning and its various subfields.'"
      ]
     },
     "execution_count": 21,
     "metadata": {},
     "output_type": "execute_result"
    }
   ],
   "source": [
    "result['result']"
   ]
  },
  {
   "cell_type": "code",
   "execution_count": 22,
   "id": "c9836912-5a17-49ed-98f4-eb54bd941a28",
   "metadata": {},
   "outputs": [],
   "source": [
    "from langchain.prompts import PromptTemplate"
   ]
  },
  {
   "cell_type": "code",
   "execution_count": 24,
   "id": "2810d318-84bc-49b3-a502-e0588bd2fa72",
   "metadata": {},
   "outputs": [],
   "source": [
    "# Build prompt\n",
    "template = \"\"\"Use the following pieces of context to answer the question at the end. \n",
    "If you don't know the answer, just say that you don't know, don't try to make up an answer. \n",
    "Use three sentences maximum. Keep the answer as concise as possible. \n",
    "Always say \"thanks for asking!\" at the end of the answer. \n",
    "\n",
    "{context}\n",
    "Question: {question}\n",
    "Helpful Answer:\"\"\"\n",
    "QA_CHAIN_PROMPT = PromptTemplate.from_template(template)"
   ]
  },
  {
   "cell_type": "code",
   "execution_count": 25,
   "id": "0e86a209-6269-44cc-baac-89d22c1a4ffa",
   "metadata": {},
   "outputs": [],
   "source": [
    "qa_chain = RetrievalQA.from_chain_type(\n",
    "    llm, \n",
    "    retriever = vectordb.as_retriever(),\n",
    "    return_source_documents= True,\n",
    "    chain_type_kwargs={'prompt':QA_CHAIN_PROMPT}\n",
    ")"
   ]
  },
  {
   "cell_type": "code",
   "execution_count": 26,
   "id": "ff494afa-0655-4ca3-95d4-45cd175b98f3",
   "metadata": {},
   "outputs": [],
   "source": [
    "result = qa_chain({'query':question})"
   ]
  },
  {
   "cell_type": "code",
   "execution_count": 27,
   "id": "78546eb1-5ff3-4a82-adc1-4698e0efee99",
   "metadata": {},
   "outputs": [
    {
     "data": {
      "text/plain": [
       "{'query': 'what are the major topics for this class?',\n",
       " 'result': 'The major topics for this class are machine learning, statistics, and algebra. Thanks for asking!',\n",
       " 'source_documents': [Document(page_content=\"statistics for a while or maybe algebra, we'll go over those in the discussion sections as a \\nrefresher for those of you that want one.  \\nLater in this quarter, we'll also use the disc ussion sections to go over extensions for the \\nmaterial that I'm teaching in the main lectur es. So machine learning is a huge field, and \\nthere are a few extensions that we really want  to teach but didn't have time in the main \\nlectures for.\", metadata={'page': 8, 'source': 'https://see.stanford.edu/materials/aimlcs229/transcripts/machinelearning-lecture01.pdf'}),\n",
       "  Document(page_content=\"statistics for a while or maybe algebra, we'll go over those in the discussion sections as a \\nrefresher for those of you that want one.  \\nLater in this quarter, we'll also use the disc ussion sections to go over extensions for the \\nmaterial that I'm teaching in the main lectur es. So machine learning is a huge field, and \\nthere are a few extensions that we really want  to teach but didn't have time in the main \\nlectures for.\", metadata={'page': 8, 'source': 'https://see.stanford.edu/materials/aimlcs229/transcripts/machinelearning-lecture01.pdf'}),\n",
       "  Document(page_content=\"middle of class, but because there won't be video you can safely sit there and make faces \\nat me, and that won't show, okay?  \\nLet's see. I also handed out this — ther e were two handouts I hope most of you have, \\ncourse information handout. So let me just sa y a few words about parts of these. On the \\nthird page, there's a section that says Online Resources.  \\nOh, okay. Louder? Actually, could you turn up the volume? Testing. Is this better? \\nTesting, testing. Okay, cool. Thanks.\", metadata={'page': 4, 'source': 'https://see.stanford.edu/materials/aimlcs229/transcripts/machinelearning-lecture01.pdf'}),\n",
       "  Document(page_content=\"middle of class, but because there won't be video you can safely sit there and make faces \\nat me, and that won't show, okay?  \\nLet's see. I also handed out this — ther e were two handouts I hope most of you have, \\ncourse information handout. So let me just sa y a few words about parts of these. On the \\nthird page, there's a section that says Online Resources.  \\nOh, okay. Louder? Actually, could you turn up the volume? Testing. Is this better? \\nTesting, testing. Okay, cool. Thanks.\", metadata={'page': 4, 'source': 'https://see.stanford.edu/materials/aimlcs229/transcripts/machinelearning-lecture01.pdf'})]}"
      ]
     },
     "execution_count": 27,
     "metadata": {},
     "output_type": "execute_result"
    }
   ],
   "source": [
    "result"
   ]
  },
  {
   "cell_type": "code",
   "execution_count": 28,
   "id": "3dc318a4-ba2a-4dca-abc6-2603f31ab95e",
   "metadata": {},
   "outputs": [],
   "source": [
    "question = \"is probability a pre-requisite for this course?\""
   ]
  },
  {
   "cell_type": "code",
   "execution_count": 29,
   "id": "ddaa6993-0505-4419-ae14-eac7c880b39d",
   "metadata": {},
   "outputs": [],
   "source": [
    "result = qa_chain({'query':question})"
   ]
  },
  {
   "cell_type": "code",
   "execution_count": 31,
   "id": "4a580e0d-f5e6-4e04-9b99-9290cfcfdf0a",
   "metadata": {},
   "outputs": [
    {
     "data": {
      "text/plain": [
       "'Yes, probability is a pre-requisite for this course. Thanks for asking!'"
      ]
     },
     "execution_count": 31,
     "metadata": {},
     "output_type": "execute_result"
    }
   ],
   "source": [
    "result['result']"
   ]
  },
  {
   "cell_type": "code",
   "execution_count": 34,
   "id": "2dc47346-d0a1-45c1-aba6-b020dfb826ba",
   "metadata": {},
   "outputs": [
    {
     "name": "stdout",
     "output_type": "stream",
     "text": [
      "Document 0-----------------------------------------------------------------------------------\n",
      "of this class will not be very program ming intensive, although we will do some \n",
      "programming, mostly in either MATLAB or Octa ve. I'll say a bit more about that later.  \n",
      "I also assume familiarity with basic proba bility and statistics. So most undergraduate \n",
      "statistics class, like Stat 116 taught here at Stanford, will be more than enough. I'm gonna \n",
      "assume all of you know what ra ndom variables are, that all of you know what expectation \n",
      "is, what a variance or a random variable is. And in case of some of you, it's been a while \n",
      "since you've seen some of this material. At some of the discussion sections, we'll actually \n",
      "go over some of the prerequisites, sort of as  a refresher course under prerequisite class. \n",
      "I'll say a bit more about that later as well.  \n",
      "Lastly, I also assume familiarity with basi c linear algebra. And again, most undergraduate \n",
      "linear algebra courses are more than enough. So if you've taken courses like Math 51, \n",
      "103, Math 113 or CS205 at Stanford, that would be more than enough. Basically, I'm \n",
      "gonna assume that all of you know what matrix es and vectors are, that you know how to \n",
      "multiply matrices and vectors and multiply matrix and matrices, that you know what a matrix inverse is. If you know what an eigenvect or of a matrix is, that'd be even better. \n",
      "But if you don't quite know or if you're not qu ite sure, that's fine, too. We'll go over it in \n",
      "the review sections.\n",
      "Document 1-----------------------------------------------------------------------------------\n",
      "of this class will not be very program ming intensive, although we will do some \n",
      "programming, mostly in either MATLAB or Octa ve. I'll say a bit more about that later.  \n",
      "I also assume familiarity with basic proba bility and statistics. So most undergraduate \n",
      "statistics class, like Stat 116 taught here at Stanford, will be more than enough. I'm gonna \n",
      "assume all of you know what ra ndom variables are, that all of you know what expectation \n",
      "is, what a variance or a random variable is. And in case of some of you, it's been a while \n",
      "since you've seen some of this material. At some of the discussion sections, we'll actually \n",
      "go over some of the prerequisites, sort of as  a refresher course under prerequisite class. \n",
      "I'll say a bit more about that later as well.  \n",
      "Lastly, I also assume familiarity with basi c linear algebra. And again, most undergraduate \n",
      "linear algebra courses are more than enough. So if you've taken courses like Math 51, \n",
      "103, Math 113 or CS205 at Stanford, that would be more than enough. Basically, I'm \n",
      "gonna assume that all of you know what matrix es and vectors are, that you know how to \n",
      "multiply matrices and vectors and multiply matrix and matrices, that you know what a matrix inverse is. If you know what an eigenvect or of a matrix is, that'd be even better. \n",
      "But if you don't quite know or if you're not qu ite sure, that's fine, too. We'll go over it in \n",
      "the review sections.\n",
      "Document 2-----------------------------------------------------------------------------------\n",
      "So, see, most of us use learning algorithms half a dozen, a dozen, maybe dozens of times \n",
      "without even knowing it.  \n",
      "And of course, learning algorithms are also  doing things like giving us a growing \n",
      "understanding of the human genome. So if so meday we ever find a cure for cancer, I bet \n",
      "learning algorithms will have had a large role in that. That's sort of the thing that Tom \n",
      "works on, yes?  \n",
      "So in teaching this class, I sort of have thre e goals. One of them is just to I hope convey \n",
      "some of my own excitement a bout machine learning to you.  \n",
      "The second goal is by the end of this class, I hope all of you will be ab le to apply state-of-\n",
      "the-art machine learning algorithms to whatev er problems you're interested in. And if you \n",
      "ever need to build a system for reading zi p codes, you'll know how to do that by the end \n",
      "of this class.  \n",
      "And lastly, by the end of this class, I reali ze that only a subset of  you are interested in \n",
      "doing research in machine learning, but by the c onclusion of this class,  I hope that all of \n",
      "you will actually be well qualified to star t doing research in machine learning, okay?  \n",
      "So let's say a few words about logistics. The prerequisites of this class are written on one \n",
      "of the handouts, are as follows: In this class, I'm going to assume that all of you have sort \n",
      "of basic knowledge of computer science and kn owledge of the basic computer skills and \n",
      "principles. So I assume all of you know what big?O notation, that all of you know about\n",
      "Document 3-----------------------------------------------------------------------------------\n",
      "So, see, most of us use learning algorithms half a dozen, a dozen, maybe dozens of times \n",
      "without even knowing it.  \n",
      "And of course, learning algorithms are also  doing things like giving us a growing \n",
      "understanding of the human genome. So if so meday we ever find a cure for cancer, I bet \n",
      "learning algorithms will have had a large role in that. That's sort of the thing that Tom \n",
      "works on, yes?  \n",
      "So in teaching this class, I sort of have thre e goals. One of them is just to I hope convey \n",
      "some of my own excitement a bout machine learning to you.  \n",
      "The second goal is by the end of this class, I hope all of you will be ab le to apply state-of-\n",
      "the-art machine learning algorithms to whatev er problems you're interested in. And if you \n",
      "ever need to build a system for reading zi p codes, you'll know how to do that by the end \n",
      "of this class.  \n",
      "And lastly, by the end of this class, I reali ze that only a subset of  you are interested in \n",
      "doing research in machine learning, but by the c onclusion of this class,  I hope that all of \n",
      "you will actually be well qualified to star t doing research in machine learning, okay?  \n",
      "So let's say a few words about logistics. The prerequisites of this class are written on one \n",
      "of the handouts, are as follows: In this class, I'm going to assume that all of you have sort \n",
      "of basic knowledge of computer science and kn owledge of the basic computer skills and \n",
      "principles. So I assume all of you know what big?O notation, that all of you know about\n"
     ]
    }
   ],
   "source": [
    "for i,d in enumerate(result['source_documents']):\n",
    "    print(f'Document {i}-----------------------------------------------------------------------------------')\n",
    "    print(d.page_content)"
   ]
  },
  {
   "cell_type": "code",
   "execution_count": 35,
   "id": "ef5c3d62-eec5-494a-849b-c315ec4fec13",
   "metadata": {},
   "outputs": [
    {
     "name": "stdout",
     "output_type": "stream",
     "text": [
      "/media/tom/StorageONE/my-github\n"
     ]
    }
   ],
   "source": [
    "!pwd"
   ]
  },
  {
   "cell_type": "code",
   "execution_count": null,
   "id": "3a64ae9e-952f-49aa-8485-ce0b133485d4",
   "metadata": {},
   "outputs": [],
   "source": []
  }
 ],
 "metadata": {
  "kernelspec": {
   "display_name": "Python 3 (ipykernel)",
   "language": "python",
   "name": "python3"
  },
  "language_info": {
   "codemirror_mode": {
    "name": "ipython",
    "version": 3
   },
   "file_extension": ".py",
   "mimetype": "text/x-python",
   "name": "python",
   "nbconvert_exporter": "python",
   "pygments_lexer": "ipython3",
   "version": "3.10.12"
  }
 },
 "nbformat": 4,
 "nbformat_minor": 5
}
