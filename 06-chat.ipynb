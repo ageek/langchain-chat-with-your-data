{
 "cells": [
  {
   "cell_type": "code",
   "execution_count": 1,
   "id": "61515453-434c-4a71-a3f1-82f20f3638a6",
   "metadata": {},
   "outputs": [],
   "source": [
    "from dotenv import load_dotenv\n",
    "import openai"
   ]
  },
  {
   "cell_type": "code",
   "execution_count": 2,
   "id": "f9709ab6-7442-41fa-99bf-b1417d7fe336",
   "metadata": {},
   "outputs": [
    {
     "data": {
      "text/plain": [
       "True"
      ]
     },
     "execution_count": 2,
     "metadata": {},
     "output_type": "execute_result"
    }
   ],
   "source": [
    "load_dotenv('/home/tom/two/envapi/my-env')"
   ]
  },
  {
   "cell_type": "code",
   "execution_count": 3,
   "id": "66cf4024-af20-4bff-9d6f-c4a58026e997",
   "metadata": {},
   "outputs": [],
   "source": [
    "from langchain.vectorstores import Chroma\n",
    "from langchain.embeddings import OpenAIEmbeddings\n"
   ]
  },
  {
   "cell_type": "code",
   "execution_count": 4,
   "id": "f3814ec8-6be8-4e76-8314-b4c1c8058ad5",
   "metadata": {},
   "outputs": [],
   "source": [
    "persist_directory = '/home/tom/two/vstore/chroma/'"
   ]
  },
  {
   "cell_type": "code",
   "execution_count": 6,
   "id": "28fd598e-6eed-41a1-ba24-5ee863b76d19",
   "metadata": {},
   "outputs": [],
   "source": [
    "embedding = OpenAIEmbeddings()"
   ]
  },
  {
   "cell_type": "code",
   "execution_count": 7,
   "id": "984fbfc4-cac7-4732-aa4b-38a975fadca9",
   "metadata": {},
   "outputs": [],
   "source": [
    "vectordb = Chroma(\n",
    "    persist_directory=persist_directory, \n",
    "    embedding_function=embedding\n",
    ")"
   ]
  },
  {
   "cell_type": "code",
   "execution_count": 8,
   "id": "d5d4c04d-6f46-4be0-a1b1-3fd3e0e2b1f6",
   "metadata": {},
   "outputs": [],
   "source": [
    "question = \"what are the major topics for the class?\""
   ]
  },
  {
   "cell_type": "code",
   "execution_count": 9,
   "id": "2a2c68e2-6bff-4a37-8568-68d4271dd07f",
   "metadata": {},
   "outputs": [
    {
     "data": {
      "text/plain": [
       "[Document(page_content=\"statistics for a while or maybe algebra, we'll go over those in the discussion sections as a \\nrefresher for those of you that want one.  \\nLater in this quarter, we'll also use the disc ussion sections to go over extensions for the \\nmaterial that I'm teaching in the main lectur es. So machine learning is a huge field, and \\nthere are a few extensions that we really want  to teach but didn't have time in the main \\nlectures for.\", metadata={'page': 8, 'source': 'https://see.stanford.edu/materials/aimlcs229/transcripts/machinelearning-lecture01.pdf'}),\n",
       " Document(page_content=\"statistics for a while or maybe algebra, we'll go over those in the discussion sections as a \\nrefresher for those of you that want one.  \\nLater in this quarter, we'll also use the disc ussion sections to go over extensions for the \\nmaterial that I'm teaching in the main lectur es. So machine learning is a huge field, and \\nthere are a few extensions that we really want  to teach but didn't have time in the main \\nlectures for.\", metadata={'page': 8, 'source': 'https://see.stanford.edu/materials/aimlcs229/transcripts/machinelearning-lecture01.pdf'}),\n",
       " Document(page_content=\"middle of class, but because there won't be video you can safely sit there and make faces \\nat me, and that won't show, okay?  \\nLet's see. I also handed out this — ther e were two handouts I hope most of you have, \\ncourse information handout. So let me just sa y a few words about parts of these. On the \\nthird page, there's a section that says Online Resources.  \\nOh, okay. Louder? Actually, could you turn up the volume? Testing. Is this better? \\nTesting, testing. Okay, cool. Thanks.\", metadata={'page': 4, 'source': 'https://see.stanford.edu/materials/aimlcs229/transcripts/machinelearning-lecture01.pdf'})]"
      ]
     },
     "execution_count": 9,
     "metadata": {},
     "output_type": "execute_result"
    }
   ],
   "source": [
    "docs = vectordb.similarity_search(question, k=3)\n",
    "docs"
   ]
  },
  {
   "cell_type": "code",
   "execution_count": 16,
   "id": "752bc853-b110-4bb5-ba43-838653e9def1",
   "metadata": {},
   "outputs": [],
   "source": [
    "def pretty_print(docs):\n",
    "    for i,d in enumerate(docs):\n",
    "        print(f'Document {i}\"s content----------------------')\n",
    "        print(d.page_content, end='\\n\\n')"
   ]
  },
  {
   "cell_type": "code",
   "execution_count": 17,
   "id": "5258fc93-7599-499f-be14-fd2551a9d08d",
   "metadata": {},
   "outputs": [
    {
     "name": "stdout",
     "output_type": "stream",
     "text": [
      "Document 0\"s content----------------------\n",
      "statistics for a while or maybe algebra, we'll go over those in the discussion sections as a \n",
      "refresher for those of you that want one.  \n",
      "Later in this quarter, we'll also use the disc ussion sections to go over extensions for the \n",
      "material that I'm teaching in the main lectur es. So machine learning is a huge field, and \n",
      "there are a few extensions that we really want  to teach but didn't have time in the main \n",
      "lectures for.\n",
      "\n",
      "Document 1\"s content----------------------\n",
      "statistics for a while or maybe algebra, we'll go over those in the discussion sections as a \n",
      "refresher for those of you that want one.  \n",
      "Later in this quarter, we'll also use the disc ussion sections to go over extensions for the \n",
      "material that I'm teaching in the main lectur es. So machine learning is a huge field, and \n",
      "there are a few extensions that we really want  to teach but didn't have time in the main \n",
      "lectures for.\n",
      "\n",
      "Document 2\"s content----------------------\n",
      "middle of class, but because there won't be video you can safely sit there and make faces \n",
      "at me, and that won't show, okay?  \n",
      "Let's see. I also handed out this — ther e were two handouts I hope most of you have, \n",
      "course information handout. So let me just sa y a few words about parts of these. On the \n",
      "third page, there's a section that says Online Resources.  \n",
      "Oh, okay. Louder? Actually, could you turn up the volume? Testing. Is this better? \n",
      "Testing, testing. Okay, cool. Thanks.\n",
      "\n"
     ]
    }
   ],
   "source": [
    "pretty_print(docs)"
   ]
  },
  {
   "cell_type": "code",
   "execution_count": 18,
   "id": "cecec36d-cf73-48e2-923a-cf58ed1a46ef",
   "metadata": {},
   "outputs": [],
   "source": [
    "from langchain.chat_models import ChatOpenAI\n",
    "llm = ChatOpenAI(\n",
    "    model_name = 'gpt-3.5-turbo',\n",
    "    temperature=0\n",
    ")"
   ]
  },
  {
   "cell_type": "code",
   "execution_count": 19,
   "id": "2554ad6e-562a-4b55-b56b-df32979b7da8",
   "metadata": {},
   "outputs": [],
   "source": [
    "from langchain.prompts import PromptTemplate"
   ]
  },
  {
   "cell_type": "code",
   "execution_count": 21,
   "id": "2dfb7eee-06c7-4fdb-8623-d7f537b7f17a",
   "metadata": {},
   "outputs": [],
   "source": [
    "tempalte = \"\"\"\n",
    "    Use the following page of context to answer the question that follows. If you dont know the answer cleary say' I dont know.' \n",
    "    without making up any answer.\n",
    "    {context}\n",
    "\n",
    "    Question:{question}\n",
    "    Answer:\n",
    "\"\"\"\n",
    "QA_CHAIN_PROMPT = PromptTemplate(\n",
    "    input_variables=[\"context\", \"question\"],\n",
    "    template=tempalte\n",
    ")"
   ]
  },
  {
   "cell_type": "code",
   "execution_count": 22,
   "id": "f81b1602-2c7e-4707-a469-49440453dd4c",
   "metadata": {},
   "outputs": [],
   "source": [
    "\n",
    "#run chain\n",
    "from langchain.chains import RetrievalQA\n",
    "question = \"Is probability a class topic?\"\n"
   ]
  },
  {
   "cell_type": "code",
   "execution_count": 23,
   "id": "b0a97c0a-ba09-46d7-b9b2-ab4f25e56ed6",
   "metadata": {},
   "outputs": [],
   "source": [
    "qa_chain = RetrievalQA.from_chain_type(\n",
    "    llm, \n",
    "    retriever = vectordb.as_retriever(),\n",
    "    return_source_documents=True,\n",
    "    chain_type_kwargs={'prompt': QA_CHAIN_PROMPT}\n",
    ")"
   ]
  },
  {
   "cell_type": "code",
   "execution_count": 24,
   "id": "168124c3-1b31-41fa-99c7-6721d270f895",
   "metadata": {},
   "outputs": [
    {
     "data": {
      "text/plain": [
       "{'query': 'Is probability a class topic?',\n",
       " 'result': 'Yes, probability is a class topic.',\n",
       " 'source_documents': [Document(page_content=\"of this class will not be very program ming intensive, although we will do some \\nprogramming, mostly in either MATLAB or Octa ve. I'll say a bit more about that later.  \\nI also assume familiarity with basic proba bility and statistics. So most undergraduate \\nstatistics class, like Stat 116 taught here at Stanford, will be more than enough. I'm gonna \\nassume all of you know what ra ndom variables are, that all of you know what expectation \\nis, what a variance or a random variable is. And in case of some of you, it's been a while \\nsince you've seen some of this material. At some of the discussion sections, we'll actually \\ngo over some of the prerequisites, sort of as  a refresher course under prerequisite class. \\nI'll say a bit more about that later as well.  \\nLastly, I also assume familiarity with basi c linear algebra. And again, most undergraduate \\nlinear algebra courses are more than enough. So if you've taken courses like Math 51, \\n103, Math 113 or CS205 at Stanford, that would be more than enough. Basically, I'm \\ngonna assume that all of you know what matrix es and vectors are, that you know how to \\nmultiply matrices and vectors and multiply matrix and matrices, that you know what a matrix inverse is. If you know what an eigenvect or of a matrix is, that'd be even better. \\nBut if you don't quite know or if you're not qu ite sure, that's fine, too. We'll go over it in \\nthe review sections.\", metadata={'page': 4, 'source': 'https://see.stanford.edu/materials/aimlcs229/transcripts/machinelearning-lecture01.pdf'}),\n",
       "  Document(page_content=\"of this class will not be very program ming intensive, although we will do some \\nprogramming, mostly in either MATLAB or Octa ve. I'll say a bit more about that later.  \\nI also assume familiarity with basic proba bility and statistics. So most undergraduate \\nstatistics class, like Stat 116 taught here at Stanford, will be more than enough. I'm gonna \\nassume all of you know what ra ndom variables are, that all of you know what expectation \\nis, what a variance or a random variable is. And in case of some of you, it's been a while \\nsince you've seen some of this material. At some of the discussion sections, we'll actually \\ngo over some of the prerequisites, sort of as  a refresher course under prerequisite class. \\nI'll say a bit more about that later as well.  \\nLastly, I also assume familiarity with basi c linear algebra. And again, most undergraduate \\nlinear algebra courses are more than enough. So if you've taken courses like Math 51, \\n103, Math 113 or CS205 at Stanford, that would be more than enough. Basically, I'm \\ngonna assume that all of you know what matrix es and vectors are, that you know how to \\nmultiply matrices and vectors and multiply matrix and matrices, that you know what a matrix inverse is. If you know what an eigenvect or of a matrix is, that'd be even better. \\nBut if you don't quite know or if you're not qu ite sure, that's fine, too. We'll go over it in \\nthe review sections.\", metadata={'page': 4, 'source': 'https://see.stanford.edu/materials/aimlcs229/transcripts/machinelearning-lecture01.pdf'}),\n",
       "  Document(page_content='Instructor (Andrew Ng) :Yeah, yeah. I mean, you’re asking about overfitting, whether \\nthis is a good model. I thi nk let’s – the thing’s you’re mentioning are maybe deeper \\nquestions about learning algorithms  that we’ll just come back to later, so don’t really \\nwant to get into that right now. Any more questions? Okay.  \\nSo this endows linear regression with a proba bilistic interpretati on. I’m actually going to \\nuse this probabil – use this, sort of, probabilist ic interpretation in order to derive our next \\nlearning algorithm, which will be our first classification algorithm. Okay? So you’ll recall \\nthat I said that regression problems are where the variable Y that you’re trying to predict \\nis continuous values. Now I’m actually gonna ta lk about our first cl assification problem, \\nwhere the value Y you’re trying to predict will be discreet value. You can take on only a \\nsmall number of discrete values and in th is case I’ll talk about binding classification \\nwhere Y takes on only two values, right? So you  come up with classi fication problems if \\nyou’re trying to do, say, a medical diagnosis and try to decide based on some features that \\nthe patient has a disease or does not have a di sease. Or if in the housing example, maybe \\nyou’re trying to decide will this house sell in the next six months or not and the answer is \\neither yes or no. It’ll either be  sold in the next six months or it won’t be. Other standing', metadata={'page': 10, 'source': 'https://see.stanford.edu/materials/aimlcs229/transcripts/machinelearning-lecture03.pdf'}),\n",
       "  Document(page_content=\"statistics for a while or maybe algebra, we'll go over those in the discussion sections as a \\nrefresher for those of you that want one.  \\nLater in this quarter, we'll also use the disc ussion sections to go over extensions for the \\nmaterial that I'm teaching in the main lectur es. So machine learning is a huge field, and \\nthere are a few extensions that we really want  to teach but didn't have time in the main \\nlectures for.\", metadata={'page': 8, 'source': 'https://see.stanford.edu/materials/aimlcs229/transcripts/machinelearning-lecture01.pdf'})]}"
      ]
     },
     "execution_count": 24,
     "metadata": {},
     "output_type": "execute_result"
    }
   ],
   "source": [
    "result = qa_chain({'query':question})\n",
    "result"
   ]
  },
  {
   "cell_type": "code",
   "execution_count": 26,
   "id": "363bc8b9-16df-4a04-9a46-fe0d581e3bff",
   "metadata": {},
   "outputs": [
    {
     "name": "stdout",
     "output_type": "stream",
     "text": [
      "Document 0\"s content----------------------\n",
      "of this class will not be very program ming intensive, although we will do some \n",
      "programming, mostly in either MATLAB or Octa ve. I'll say a bit more about that later.  \n",
      "I also assume familiarity with basic proba bility and statistics. So most undergraduate \n",
      "statistics class, like Stat 116 taught here at Stanford, will be more than enough. I'm gonna \n",
      "assume all of you know what ra ndom variables are, that all of you know what expectation \n",
      "is, what a variance or a random variable is. And in case of some of you, it's been a while \n",
      "since you've seen some of this material. At some of the discussion sections, we'll actually \n",
      "go over some of the prerequisites, sort of as  a refresher course under prerequisite class. \n",
      "I'll say a bit more about that later as well.  \n",
      "Lastly, I also assume familiarity with basi c linear algebra. And again, most undergraduate \n",
      "linear algebra courses are more than enough. So if you've taken courses like Math 51, \n",
      "103, Math 113 or CS205 at Stanford, that would be more than enough. Basically, I'm \n",
      "gonna assume that all of you know what matrix es and vectors are, that you know how to \n",
      "multiply matrices and vectors and multiply matrix and matrices, that you know what a matrix inverse is. If you know what an eigenvect or of a matrix is, that'd be even better. \n",
      "But if you don't quite know or if you're not qu ite sure, that's fine, too. We'll go over it in \n",
      "the review sections.\n",
      "\n",
      "Document 1\"s content----------------------\n",
      "of this class will not be very program ming intensive, although we will do some \n",
      "programming, mostly in either MATLAB or Octa ve. I'll say a bit more about that later.  \n",
      "I also assume familiarity with basic proba bility and statistics. So most undergraduate \n",
      "statistics class, like Stat 116 taught here at Stanford, will be more than enough. I'm gonna \n",
      "assume all of you know what ra ndom variables are, that all of you know what expectation \n",
      "is, what a variance or a random variable is. And in case of some of you, it's been a while \n",
      "since you've seen some of this material. At some of the discussion sections, we'll actually \n",
      "go over some of the prerequisites, sort of as  a refresher course under prerequisite class. \n",
      "I'll say a bit more about that later as well.  \n",
      "Lastly, I also assume familiarity with basi c linear algebra. And again, most undergraduate \n",
      "linear algebra courses are more than enough. So if you've taken courses like Math 51, \n",
      "103, Math 113 or CS205 at Stanford, that would be more than enough. Basically, I'm \n",
      "gonna assume that all of you know what matrix es and vectors are, that you know how to \n",
      "multiply matrices and vectors and multiply matrix and matrices, that you know what a matrix inverse is. If you know what an eigenvect or of a matrix is, that'd be even better. \n",
      "But if you don't quite know or if you're not qu ite sure, that's fine, too. We'll go over it in \n",
      "the review sections.\n",
      "\n",
      "Document 2\"s content----------------------\n",
      "Instructor (Andrew Ng) :Yeah, yeah. I mean, you’re asking about overfitting, whether \n",
      "this is a good model. I thi nk let’s – the thing’s you’re mentioning are maybe deeper \n",
      "questions about learning algorithms  that we’ll just come back to later, so don’t really \n",
      "want to get into that right now. Any more questions? Okay.  \n",
      "So this endows linear regression with a proba bilistic interpretati on. I’m actually going to \n",
      "use this probabil – use this, sort of, probabilist ic interpretation in order to derive our next \n",
      "learning algorithm, which will be our first classification algorithm. Okay? So you’ll recall \n",
      "that I said that regression problems are where the variable Y that you’re trying to predict \n",
      "is continuous values. Now I’m actually gonna ta lk about our first cl assification problem, \n",
      "where the value Y you’re trying to predict will be discreet value. You can take on only a \n",
      "small number of discrete values and in th is case I’ll talk about binding classification \n",
      "where Y takes on only two values, right? So you  come up with classi fication problems if \n",
      "you’re trying to do, say, a medical diagnosis and try to decide based on some features that \n",
      "the patient has a disease or does not have a di sease. Or if in the housing example, maybe \n",
      "you’re trying to decide will this house sell in the next six months or not and the answer is \n",
      "either yes or no. It’ll either be  sold in the next six months or it won’t be. Other standing\n",
      "\n",
      "Document 3\"s content----------------------\n",
      "statistics for a while or maybe algebra, we'll go over those in the discussion sections as a \n",
      "refresher for those of you that want one.  \n",
      "Later in this quarter, we'll also use the disc ussion sections to go over extensions for the \n",
      "material that I'm teaching in the main lectur es. So machine learning is a huge field, and \n",
      "there are a few extensions that we really want  to teach but didn't have time in the main \n",
      "lectures for.\n",
      "\n"
     ]
    }
   ],
   "source": [
    "pretty_print(result['source_documents'])"
   ]
  },
  {
   "cell_type": "code",
   "execution_count": 27,
   "id": "c5f64ef3-8092-4d52-8dca-240310208a75",
   "metadata": {},
   "outputs": [],
   "source": [
    "from langchain.memory import ConversationBufferMemory\n"
   ]
  },
  {
   "cell_type": "code",
   "execution_count": 28,
   "id": "5bea78b7-ea9a-44e4-8020-525420408f1b",
   "metadata": {},
   "outputs": [],
   "source": [
    "memory = ConversationBufferMemory(\n",
    "    memory_key = 'chat_history',\n",
    "    return_messages=True\n",
    ")"
   ]
  },
  {
   "cell_type": "code",
   "execution_count": 35,
   "id": "9a2f7b5f-36a0-4a87-ac46-8b19bd4afc9d",
   "metadata": {},
   "outputs": [],
   "source": [
    "from langchain.chains import ConversationalRetrievalChain\n",
    "retriever = vectordb.as_retriever()\n",
    "qa = ConversationalRetrievalChain.from_llm(\n",
    "    llm, \n",
    "    retriever=retriever,\n",
    "    memory = memory,\n",
    "    chain_type='stuff',\n",
    "    verbose=True\n",
    ")"
   ]
  },
  {
   "cell_type": "code",
   "execution_count": 36,
   "id": "c25465c5-7a3a-4021-9761-daf59ee71d1a",
   "metadata": {},
   "outputs": [
    {
     "name": "stdout",
     "output_type": "stream",
     "text": [
      "\n",
      "\n",
      "\u001b[1m> Entering new LLMChain chain...\u001b[0m\n",
      "Prompt after formatting:\n",
      "\u001b[32;1m\u001b[1;3mGiven the following conversation and a follow up question, rephrase the follow up question to be a standalone question, in its original language.\n",
      "\n",
      "Chat History:\n",
      "\n",
      "Human: is probability a class topic?\n",
      "Assistant: Yes, probability is a topic that will be covered in this class. The instructor assumes familiarity with basic probability and statistics, so it is expected that students have prior knowledge of random variables, expectation, variance, and other related concepts.\n",
      "Human: why those prerequisites are required?\n",
      "Assistant: The prerequisites are required because they provide the foundational knowledge and skills necessary to understand and apply the concepts taught in the class. \n",
      "\n",
      "Familiarity with basic probability and statistics is necessary because machine learning involves analyzing and making predictions based on data, which requires an understanding of probability and statistical concepts such as random variables, expectation, variance, and probability distributions.\n",
      "\n",
      "Knowledge of basic linear algebra is important because many machine learning algorithms and techniques involve manipulating and analyzing matrices and vectors. Understanding concepts such as matrix multiplication, matrix inverse, and eigenvectors is essential for working with these algorithms.\n",
      "\n",
      "Overall, the prerequisites ensure that students have the necessary background knowledge to effectively engage with the material and apply it in practical applications.\n",
      "Follow Up Input: is probability a class topic?\n",
      "Standalone question:\u001b[0m\n",
      "\n",
      "\u001b[1m> Finished chain.\u001b[0m\n",
      "\n",
      "\n",
      "\u001b[1m> Entering new StuffDocumentsChain chain...\u001b[0m\n",
      "\n",
      "\n",
      "\u001b[1m> Entering new LLMChain chain...\u001b[0m\n",
      "Prompt after formatting:\n",
      "\u001b[32;1m\u001b[1;3mSystem: Use the following pieces of context to answer the user's question. \n",
      "If you don't know the answer, just say that you don't know, don't try to make up an answer.\n",
      "----------------\n",
      "of this class will not be very program ming intensive, although we will do some \n",
      "programming, mostly in either MATLAB or Octa ve. I'll say a bit more about that later.  \n",
      "I also assume familiarity with basic proba bility and statistics. So most undergraduate \n",
      "statistics class, like Stat 116 taught here at Stanford, will be more than enough. I'm gonna \n",
      "assume all of you know what ra ndom variables are, that all of you know what expectation \n",
      "is, what a variance or a random variable is. And in case of some of you, it's been a while \n",
      "since you've seen some of this material. At some of the discussion sections, we'll actually \n",
      "go over some of the prerequisites, sort of as  a refresher course under prerequisite class. \n",
      "I'll say a bit more about that later as well.  \n",
      "Lastly, I also assume familiarity with basi c linear algebra. And again, most undergraduate \n",
      "linear algebra courses are more than enough. So if you've taken courses like Math 51, \n",
      "103, Math 113 or CS205 at Stanford, that would be more than enough. Basically, I'm \n",
      "gonna assume that all of you know what matrix es and vectors are, that you know how to \n",
      "multiply matrices and vectors and multiply matrix and matrices, that you know what a matrix inverse is. If you know what an eigenvect or of a matrix is, that'd be even better. \n",
      "But if you don't quite know or if you're not qu ite sure, that's fine, too. We'll go over it in \n",
      "the review sections.\n",
      "\n",
      "of this class will not be very program ming intensive, although we will do some \n",
      "programming, mostly in either MATLAB or Octa ve. I'll say a bit more about that later.  \n",
      "I also assume familiarity with basic proba bility and statistics. So most undergraduate \n",
      "statistics class, like Stat 116 taught here at Stanford, will be more than enough. I'm gonna \n",
      "assume all of you know what ra ndom variables are, that all of you know what expectation \n",
      "is, what a variance or a random variable is. And in case of some of you, it's been a while \n",
      "since you've seen some of this material. At some of the discussion sections, we'll actually \n",
      "go over some of the prerequisites, sort of as  a refresher course under prerequisite class. \n",
      "I'll say a bit more about that later as well.  \n",
      "Lastly, I also assume familiarity with basi c linear algebra. And again, most undergraduate \n",
      "linear algebra courses are more than enough. So if you've taken courses like Math 51, \n",
      "103, Math 113 or CS205 at Stanford, that would be more than enough. Basically, I'm \n",
      "gonna assume that all of you know what matrix es and vectors are, that you know how to \n",
      "multiply matrices and vectors and multiply matrix and matrices, that you know what a matrix inverse is. If you know what an eigenvect or of a matrix is, that'd be even better. \n",
      "But if you don't quite know or if you're not qu ite sure, that's fine, too. We'll go over it in \n",
      "the review sections.\n",
      "\n",
      "statistics for a while or maybe algebra, we'll go over those in the discussion sections as a \n",
      "refresher for those of you that want one.  \n",
      "Later in this quarter, we'll also use the disc ussion sections to go over extensions for the \n",
      "material that I'm teaching in the main lectur es. So machine learning is a huge field, and \n",
      "there are a few extensions that we really want  to teach but didn't have time in the main \n",
      "lectures for.\n",
      "\n",
      "statistics for a while or maybe algebra, we'll go over those in the discussion sections as a \n",
      "refresher for those of you that want one.  \n",
      "Later in this quarter, we'll also use the disc ussion sections to go over extensions for the \n",
      "material that I'm teaching in the main lectur es. So machine learning is a huge field, and \n",
      "there are a few extensions that we really want  to teach but didn't have time in the main \n",
      "lectures for.\n",
      "Human: Why are the prerequisites of basic probability and statistics required for this class?\u001b[0m\n",
      "\n",
      "\u001b[1m> Finished chain.\u001b[0m\n",
      "\n",
      "\u001b[1m> Finished chain.\u001b[0m\n"
     ]
    },
    {
     "data": {
      "text/plain": [
       "{'question': 'is probability a class topic?',\n",
       " 'chat_history': [HumanMessage(content='is probability a class topic?'),\n",
       "  AIMessage(content='Yes, probability is a topic that will be covered in this class. The instructor assumes familiarity with basic probability and statistics, so it is expected that students have prior knowledge of random variables, expectation, variance, and other related concepts.'),\n",
       "  HumanMessage(content='why those prerequisites are required?'),\n",
       "  AIMessage(content='The prerequisites are required because they provide the foundational knowledge and skills necessary to understand and apply the concepts taught in the class. \\n\\nFamiliarity with basic probability and statistics is necessary because machine learning involves analyzing and making predictions based on data, which requires an understanding of probability and statistical concepts such as random variables, expectation, variance, and probability distributions.\\n\\nKnowledge of basic linear algebra is important because many machine learning algorithms and techniques involve manipulating and analyzing matrices and vectors. Understanding concepts such as matrix multiplication, matrix inverse, and eigenvectors is essential for working with these algorithms.\\n\\nOverall, the prerequisites ensure that students have the necessary background knowledge to effectively engage with the material and apply it in practical applications.'),\n",
       "  HumanMessage(content='is probability a class topic?'),\n",
       "  AIMessage(content='The prerequisites of basic probability and statistics are required for this class because machine learning heavily relies on statistical concepts and techniques. Understanding probability and statistics is essential for analyzing and interpreting data, making predictions, and evaluating the performance of machine learning models. These concepts are used to quantify uncertainty, estimate parameters, and assess the reliability of results. Without a solid foundation in probability and statistics, it would be challenging to grasp the fundamental principles and methodologies of machine learning.')],\n",
       " 'answer': 'The prerequisites of basic probability and statistics are required for this class because machine learning heavily relies on statistical concepts and techniques. Understanding probability and statistics is essential for analyzing and interpreting data, making predictions, and evaluating the performance of machine learning models. These concepts are used to quantify uncertainty, estimate parameters, and assess the reliability of results. Without a solid foundation in probability and statistics, it would be challenging to grasp the fundamental principles and methodologies of machine learning.'}"
      ]
     },
     "execution_count": 36,
     "metadata": {},
     "output_type": "execute_result"
    }
   ],
   "source": [
    "question='is probability a class topic?'\n",
    "result = qa({'question':question})\n",
    "result"
   ]
  },
  {
   "cell_type": "code",
   "execution_count": 37,
   "id": "5d99e98e-c408-4e16-884f-67fb60cd437d",
   "metadata": {},
   "outputs": [
    {
     "name": "stdout",
     "output_type": "stream",
     "text": [
      "\n",
      "\n",
      "\u001b[1m> Entering new LLMChain chain...\u001b[0m\n",
      "Prompt after formatting:\n",
      "\u001b[32;1m\u001b[1;3mGiven the following conversation and a follow up question, rephrase the follow up question to be a standalone question, in its original language.\n",
      "\n",
      "Chat History:\n",
      "\n",
      "Human: is probability a class topic?\n",
      "Assistant: Yes, probability is a topic that will be covered in this class. The instructor assumes familiarity with basic probability and statistics, so it is expected that students have prior knowledge of random variables, expectation, variance, and other related concepts.\n",
      "Human: why those prerequisites are required?\n",
      "Assistant: The prerequisites are required because they provide the foundational knowledge and skills necessary to understand and apply the concepts taught in the class. \n",
      "\n",
      "Familiarity with basic probability and statistics is necessary because machine learning involves analyzing and making predictions based on data, which requires an understanding of probability and statistical concepts such as random variables, expectation, variance, and probability distributions.\n",
      "\n",
      "Knowledge of basic linear algebra is important because many machine learning algorithms and techniques involve manipulating and analyzing matrices and vectors. Understanding concepts such as matrix multiplication, matrix inverse, and eigenvectors is essential for working with these algorithms.\n",
      "\n",
      "Overall, the prerequisites ensure that students have the necessary background knowledge to effectively engage with the material and apply it in practical applications.\n",
      "Human: is probability a class topic?\n",
      "Assistant: The prerequisites of basic probability and statistics are required for this class because machine learning heavily relies on statistical concepts and techniques. Understanding probability and statistics is essential for analyzing and interpreting data, making predictions, and evaluating the performance of machine learning models. These concepts are used to quantify uncertainty, estimate parameters, and assess the reliability of results. Without a solid foundation in probability and statistics, it would be challenging to grasp the fundamental principles and methodologies of machine learning.\n",
      "Follow Up Input: why those prerequisites are required?\n",
      "Standalone question:\u001b[0m\n",
      "\n",
      "\u001b[1m> Finished chain.\u001b[0m\n",
      "\n",
      "\n",
      "\u001b[1m> Entering new StuffDocumentsChain chain...\u001b[0m\n",
      "\n",
      "\n",
      "\u001b[1m> Entering new LLMChain chain...\u001b[0m\n",
      "Prompt after formatting:\n",
      "\u001b[32;1m\u001b[1;3mSystem: Use the following pieces of context to answer the user's question. \n",
      "If you don't know the answer, just say that you don't know, don't try to make up an answer.\n",
      "----------------\n",
      "of this class will not be very program ming intensive, although we will do some \n",
      "programming, mostly in either MATLAB or Octa ve. I'll say a bit more about that later.  \n",
      "I also assume familiarity with basic proba bility and statistics. So most undergraduate \n",
      "statistics class, like Stat 116 taught here at Stanford, will be more than enough. I'm gonna \n",
      "assume all of you know what ra ndom variables are, that all of you know what expectation \n",
      "is, what a variance or a random variable is. And in case of some of you, it's been a while \n",
      "since you've seen some of this material. At some of the discussion sections, we'll actually \n",
      "go over some of the prerequisites, sort of as  a refresher course under prerequisite class. \n",
      "I'll say a bit more about that later as well.  \n",
      "Lastly, I also assume familiarity with basi c linear algebra. And again, most undergraduate \n",
      "linear algebra courses are more than enough. So if you've taken courses like Math 51, \n",
      "103, Math 113 or CS205 at Stanford, that would be more than enough. Basically, I'm \n",
      "gonna assume that all of you know what matrix es and vectors are, that you know how to \n",
      "multiply matrices and vectors and multiply matrix and matrices, that you know what a matrix inverse is. If you know what an eigenvect or of a matrix is, that'd be even better. \n",
      "But if you don't quite know or if you're not qu ite sure, that's fine, too. We'll go over it in \n",
      "the review sections.\n",
      "\n",
      "of this class will not be very program ming intensive, although we will do some \n",
      "programming, mostly in either MATLAB or Octa ve. I'll say a bit more about that later.  \n",
      "I also assume familiarity with basic proba bility and statistics. So most undergraduate \n",
      "statistics class, like Stat 116 taught here at Stanford, will be more than enough. I'm gonna \n",
      "assume all of you know what ra ndom variables are, that all of you know what expectation \n",
      "is, what a variance or a random variable is. And in case of some of you, it's been a while \n",
      "since you've seen some of this material. At some of the discussion sections, we'll actually \n",
      "go over some of the prerequisites, sort of as  a refresher course under prerequisite class. \n",
      "I'll say a bit more about that later as well.  \n",
      "Lastly, I also assume familiarity with basi c linear algebra. And again, most undergraduate \n",
      "linear algebra courses are more than enough. So if you've taken courses like Math 51, \n",
      "103, Math 113 or CS205 at Stanford, that would be more than enough. Basically, I'm \n",
      "gonna assume that all of you know what matrix es and vectors are, that you know how to \n",
      "multiply matrices and vectors and multiply matrix and matrices, that you know what a matrix inverse is. If you know what an eigenvect or of a matrix is, that'd be even better. \n",
      "But if you don't quite know or if you're not qu ite sure, that's fine, too. We'll go over it in \n",
      "the review sections.\n",
      "\n",
      "statistics for a while or maybe algebra, we'll go over those in the discussion sections as a \n",
      "refresher for those of you that want one.  \n",
      "Later in this quarter, we'll also use the disc ussion sections to go over extensions for the \n",
      "material that I'm teaching in the main lectur es. So machine learning is a huge field, and \n",
      "there are a few extensions that we really want  to teach but didn't have time in the main \n",
      "lectures for.\n",
      "\n",
      "statistics for a while or maybe algebra, we'll go over those in the discussion sections as a \n",
      "refresher for those of you that want one.  \n",
      "Later in this quarter, we'll also use the disc ussion sections to go over extensions for the \n",
      "material that I'm teaching in the main lectur es. So machine learning is a huge field, and \n",
      "there are a few extensions that we really want  to teach but didn't have time in the main \n",
      "lectures for.\n",
      "Human: Why are the prerequisites of basic probability and statistics required for this class?\u001b[0m\n",
      "\n",
      "\u001b[1m> Finished chain.\u001b[0m\n",
      "\n",
      "\u001b[1m> Finished chain.\u001b[0m\n"
     ]
    },
    {
     "data": {
      "text/plain": [
       "{'question': 'why those prerequisites are required?',\n",
       " 'chat_history': [HumanMessage(content='is probability a class topic?'),\n",
       "  AIMessage(content='Yes, probability is a topic that will be covered in this class. The instructor assumes familiarity with basic probability and statistics, so it is expected that students have prior knowledge of random variables, expectation, variance, and other related concepts.'),\n",
       "  HumanMessage(content='why those prerequisites are required?'),\n",
       "  AIMessage(content='The prerequisites are required because they provide the foundational knowledge and skills necessary to understand and apply the concepts taught in the class. \\n\\nFamiliarity with basic probability and statistics is necessary because machine learning involves analyzing and making predictions based on data, which requires an understanding of probability and statistical concepts such as random variables, expectation, variance, and probability distributions.\\n\\nKnowledge of basic linear algebra is important because many machine learning algorithms and techniques involve manipulating and analyzing matrices and vectors. Understanding concepts such as matrix multiplication, matrix inverse, and eigenvectors is essential for working with these algorithms.\\n\\nOverall, the prerequisites ensure that students have the necessary background knowledge to effectively engage with the material and apply it in practical applications.'),\n",
       "  HumanMessage(content='is probability a class topic?'),\n",
       "  AIMessage(content='The prerequisites of basic probability and statistics are required for this class because machine learning heavily relies on statistical concepts and techniques. Understanding probability and statistics is essential for analyzing and interpreting data, making predictions, and evaluating the performance of machine learning models. These concepts are used to quantify uncertainty, estimate parameters, and assess the reliability of results. Without a solid foundation in probability and statistics, it would be challenging to grasp the fundamental principles and methodologies of machine learning.'),\n",
       "  HumanMessage(content='why those prerequisites are required?'),\n",
       "  AIMessage(content='The prerequisites of basic probability and statistics are required for this class because machine learning heavily relies on statistical concepts and techniques. Understanding probability and statistics is essential for analyzing and interpreting data, making predictions, and evaluating the performance of machine learning models. These concepts are used to quantify uncertainty, estimate parameters, and assess the reliability of results. Without a solid foundation in probability and statistics, it would be challenging to grasp the fundamental principles and methodologies of machine learning.')],\n",
       " 'answer': 'The prerequisites of basic probability and statistics are required for this class because machine learning heavily relies on statistical concepts and techniques. Understanding probability and statistics is essential for analyzing and interpreting data, making predictions, and evaluating the performance of machine learning models. These concepts are used to quantify uncertainty, estimate parameters, and assess the reliability of results. Without a solid foundation in probability and statistics, it would be challenging to grasp the fundamental principles and methodologies of machine learning.'}"
      ]
     },
     "execution_count": 37,
     "metadata": {},
     "output_type": "execute_result"
    }
   ],
   "source": [
    "question = 'why those prerequisites are required?'\n",
    "result = qa({'question':question})\n",
    "result"
   ]
  },
  {
   "cell_type": "code",
   "execution_count": 38,
   "id": "81650037-8c41-44c6-a3d2-45a79ff0df14",
   "metadata": {},
   "outputs": [
    {
     "data": {
      "text/plain": [
       "[HumanMessage(content='is probability a class topic?'),\n",
       " AIMessage(content='Yes, probability is a topic that will be covered in this class. The instructor assumes familiarity with basic probability and statistics, so it is expected that students have prior knowledge of random variables, expectation, variance, and other related concepts.'),\n",
       " HumanMessage(content='why those prerequisites are required?'),\n",
       " AIMessage(content='The prerequisites are required because they provide the foundational knowledge and skills necessary to understand and apply the concepts taught in the class. \\n\\nFamiliarity with basic probability and statistics is necessary because machine learning involves analyzing and making predictions based on data, which requires an understanding of probability and statistical concepts such as random variables, expectation, variance, and probability distributions.\\n\\nKnowledge of basic linear algebra is important because many machine learning algorithms and techniques involve manipulating and analyzing matrices and vectors. Understanding concepts such as matrix multiplication, matrix inverse, and eigenvectors is essential for working with these algorithms.\\n\\nOverall, the prerequisites ensure that students have the necessary background knowledge to effectively engage with the material and apply it in practical applications.'),\n",
       " HumanMessage(content='is probability a class topic?'),\n",
       " AIMessage(content='The prerequisites of basic probability and statistics are required for this class because machine learning heavily relies on statistical concepts and techniques. Understanding probability and statistics is essential for analyzing and interpreting data, making predictions, and evaluating the performance of machine learning models. These concepts are used to quantify uncertainty, estimate parameters, and assess the reliability of results. Without a solid foundation in probability and statistics, it would be challenging to grasp the fundamental principles and methodologies of machine learning.'),\n",
       " HumanMessage(content='why those prerequisites are required?'),\n",
       " AIMessage(content='The prerequisites of basic probability and statistics are required for this class because machine learning heavily relies on statistical concepts and techniques. Understanding probability and statistics is essential for analyzing and interpreting data, making predictions, and evaluating the performance of machine learning models. These concepts are used to quantify uncertainty, estimate parameters, and assess the reliability of results. Without a solid foundation in probability and statistics, it would be challenging to grasp the fundamental principles and methodologies of machine learning.')]"
      ]
     },
     "execution_count": 38,
     "metadata": {},
     "output_type": "execute_result"
    }
   ],
   "source": [
    "result['chat_history']"
   ]
  },
  {
   "cell_type": "code",
   "execution_count": 39,
   "id": "1fecf220-eb7f-4b91-8c0c-d72a2c126ce6",
   "metadata": {},
   "outputs": [
    {
     "data": {
      "text/plain": [
       "'The prerequisites of basic probability and statistics are required for this class because machine learning heavily relies on statistical concepts and techniques. Understanding probability and statistics is essential for analyzing and interpreting data, making predictions, and evaluating the performance of machine learning models. These concepts are used to quantify uncertainty, estimate parameters, and assess the reliability of results. Without a solid foundation in probability and statistics, it would be challenging to grasp the fundamental principles and methodologies of machine learning.'"
      ]
     },
     "execution_count": 39,
     "metadata": {},
     "output_type": "execute_result"
    }
   ],
   "source": [
    "result['answer']"
   ]
  },
  {
   "cell_type": "code",
   "execution_count": null,
   "id": "80001634-2911-4a3d-b1e8-85e614fc5054",
   "metadata": {},
   "outputs": [],
   "source": []
  }
 ],
 "metadata": {
  "kernelspec": {
   "display_name": "Python 3 (ipykernel)",
   "language": "python",
   "name": "python3"
  },
  "language_info": {
   "codemirror_mode": {
    "name": "ipython",
    "version": 3
   },
   "file_extension": ".py",
   "mimetype": "text/x-python",
   "name": "python",
   "nbconvert_exporter": "python",
   "pygments_lexer": "ipython3",
   "version": "3.10.12"
  }
 },
 "nbformat": 4,
 "nbformat_minor": 5
}
